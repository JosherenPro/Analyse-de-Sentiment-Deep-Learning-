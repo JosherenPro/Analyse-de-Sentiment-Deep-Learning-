{
 "cells": [
  {
   "cell_type": "markdown",
   "id": "c7ec2297",
   "metadata": {},
   "source": [
    "## Analyse de sentiment\n",
    "\n",
    "Nous allons utiliser:\n",
    "1. `NLTK` et `Torch` pour le prepocessing des phrases de notre datasets\n",
    "2. `TF-ID` ou `CountVectorizer` de `sklearn` pour encoder les phrases dans un langage comprehensible pour la machine\n",
    "2. Un model de reseaux de neuronnes recurrents `GRU`: *Gated Recurrent Units*"
   ]
  },
  {
   "cell_type": "code",
   "execution_count": 68,
   "id": "742ac948",
   "metadata": {},
   "outputs": [],
   "source": [
    "import pandas as pd"
   ]
  },
  {
   "cell_type": "code",
   "execution_count": 69,
   "id": "fbc121e30a2defb3",
   "metadata": {
    "ExecuteTime": {
     "end_time": "2025-10-09T16:08:51.867193Z",
     "start_time": "2025-10-09T16:08:50.555277Z"
    }
   },
   "outputs": [
    {
     "data": {
      "text/html": [
       "<div>\n",
       "<style scoped>\n",
       "    .dataframe tbody tr th:only-of-type {\n",
       "        vertical-align: middle;\n",
       "    }\n",
       "\n",
       "    .dataframe tbody tr th {\n",
       "        vertical-align: top;\n",
       "    }\n",
       "\n",
       "    .dataframe thead th {\n",
       "        text-align: right;\n",
       "    }\n",
       "</style>\n",
       "<table border=\"1\" class=\"dataframe\">\n",
       "  <thead>\n",
       "    <tr style=\"text-align: right;\">\n",
       "      <th></th>\n",
       "      <th>text</th>\n",
       "      <th>label</th>\n",
       "    </tr>\n",
       "  </thead>\n",
       "  <tbody>\n",
       "    <tr>\n",
       "      <th>0</th>\n",
       "      <td>Stuning even for the non-gamer: This sound tr...</td>\n",
       "      <td>__label__2</td>\n",
       "    </tr>\n",
       "    <tr>\n",
       "      <th>1</th>\n",
       "      <td>The best soundtrack ever to anything.: I'm re...</td>\n",
       "      <td>__label__2</td>\n",
       "    </tr>\n",
       "    <tr>\n",
       "      <th>2</th>\n",
       "      <td>Amazing!: This soundtrack is my favorite musi...</td>\n",
       "      <td>__label__2</td>\n",
       "    </tr>\n",
       "    <tr>\n",
       "      <th>3</th>\n",
       "      <td>Excellent Soundtrack: I truly like this sound...</td>\n",
       "      <td>__label__2</td>\n",
       "    </tr>\n",
       "    <tr>\n",
       "      <th>4</th>\n",
       "      <td>Remember, Pull Your Jaw Off The Floor After H...</td>\n",
       "      <td>__label__2</td>\n",
       "    </tr>\n",
       "  </tbody>\n",
       "</table>\n",
       "</div>"
      ],
      "text/plain": [
       "                                                text        label\n",
       "0   Stuning even for the non-gamer: This sound tr...  __label__2 \n",
       "1   The best soundtrack ever to anything.: I'm re...  __label__2 \n",
       "2   Amazing!: This soundtrack is my favorite musi...  __label__2 \n",
       "3   Excellent Soundtrack: I truly like this sound...  __label__2 \n",
       "4   Remember, Pull Your Jaw Off The Floor After H...  __label__2 "
      ]
     },
     "execution_count": 69,
     "metadata": {},
     "output_type": "execute_result"
    }
   ],
   "source": [
    "data_path = \"data/corpus.csv\"\n",
    "\n",
    "data = pd.read_csv(data_path, encoding='ISO-8859-1')\n",
    "\n",
    "data.head()\n"
   ]
  },
  {
   "cell_type": "code",
   "execution_count": 70,
   "id": "728c53d6",
   "metadata": {},
   "outputs": [
    {
     "name": "stdout",
     "output_type": "stream",
     "text": [
      "<class 'pandas.core.frame.DataFrame'>\n",
      "RangeIndex: 10000 entries, 0 to 9999\n",
      "Data columns (total 2 columns):\n",
      " #   Column  Non-Null Count  Dtype \n",
      "---  ------  --------------  ----- \n",
      " 0   text    10000 non-null  object\n",
      " 1   label   10000 non-null  object\n",
      "dtypes: object(2)\n",
      "memory usage: 156.4+ KB\n"
     ]
    }
   ],
   "source": [
    "data.info()"
   ]
  },
  {
   "cell_type": "code",
   "execution_count": 71,
   "id": "fd577b44",
   "metadata": {},
   "outputs": [
    {
     "data": {
      "text/plain": [
       "label\n",
       "__label__1     5097\n",
       "__label__2     4903\n",
       "Name: count, dtype: int64"
      ]
     },
     "execution_count": 71,
     "metadata": {},
     "output_type": "execute_result"
    }
   ],
   "source": [
    "data[\"label\"].value_counts()"
   ]
  },
  {
   "cell_type": "code",
   "execution_count": 72,
   "id": "e0f9c436",
   "metadata": {},
   "outputs": [
    {
     "data": {
      "text/plain": [
       "label\n",
       "0    5097\n",
       "1    4903\n",
       "Name: count, dtype: int64"
      ]
     },
     "execution_count": 72,
     "metadata": {},
     "output_type": "execute_result"
    }
   ],
   "source": [
    "data[\"label\"] = data[\"label\"].map(lambda x: x.strip())\n",
    "data[\"label\"] = data[\"label\"].apply(lambda x: 0 if x == \"__label__1\" else 1)\n",
    "\n",
    "data[\"label\"].value_counts()"
   ]
  },
  {
   "cell_type": "code",
   "execution_count": 73,
   "id": "40fbf9c8",
   "metadata": {},
   "outputs": [
    {
     "data": {
      "text/plain": [
       "((7500, 2), (2500, 2))"
      ]
     },
     "execution_count": 73,
     "metadata": {},
     "output_type": "execute_result"
    }
   ],
   "source": [
    "from sklearn.model_selection import train_test_split\n",
    "\n",
    "train_data, test_data = train_test_split(data, random_state=92, shuffle=True)\n",
    "\n",
    "train_data.shape, test_data.shape"
   ]
  },
  {
   "cell_type": "code",
   "execution_count": 74,
   "id": "96261b3b",
   "metadata": {},
   "outputs": [],
   "source": [
    "from torchtext.data.utils import get_tokenizer\n",
    "\n",
    "import nltk\n",
    "from nltk.corpus import stopwords\n",
    "from nltk.probability import FreqDist\n",
    "from nltk.stem import PorterStemmer\n",
    "\n",
    "from sklearn.feature_extraction.text import TfidfVectorizer, CountVectorizer"
   ]
  },
  {
   "cell_type": "code",
   "execution_count": 75,
   "id": "dd45e432",
   "metadata": {},
   "outputs": [
    {
     "name": "stderr",
     "output_type": "stream",
     "text": [
      "[nltk_data] Downloading package stopwords to\n",
      "[nltk_data]     /home/josheren/nltk_data...\n",
      "[nltk_data]   Package stopwords is already up-to-date!\n"
     ]
    }
   ],
   "source": [
    "nltk.download(\"stopwords\")\n",
    "\n",
    "tokenizer = get_tokenizer(\"basic_english\")\n",
    "stop_words = set(stopwords.words(\"english\"))\n",
    "\n",
    "threshold = 1"
   ]
  },
  {
   "cell_type": "code",
   "execution_count": 76,
   "id": "da0163dd",
   "metadata": {},
   "outputs": [],
   "source": [
    "def preprocess_text(sentence):\n",
    "    sentence = sentence.lower()\n",
    "    tokens = tokenizer(sentence)\n",
    "    #freq_dist = FreqDist(tokens)\n",
    "    #tokens = [token for token in tokens if freq_dist[token] > threshold]\n",
    "    stemmer = PorterStemmer()\n",
    "    stem_tokens = [stemmer.stem(token) for token in tokens]\n",
    "    sentence = \" \".join(stem_tokens)\n",
    "    return sentence\n",
    "\n",
    "def encode_sentences(sentences):\n",
    "    #tf = TfidfVectorizer()\n",
    "    tf = CountVectorizer()\n",
    "    X = tf.fit_transform(sentences)\n",
    "    return X.toarray(), tf"
   ]
  },
  {
   "cell_type": "code",
   "execution_count": 77,
   "id": "7ef040be",
   "metadata": {},
   "outputs": [
    {
     "data": {
      "text/plain": [
       "2913     Boring and Stupid: Dark Side of the Moon make...\n",
       "9413     Ry Cooder: As an avid music fan with an abidi...\n",
       "4420     Shakespeare's best!: I love this play. The wo...\n",
       "1983     cute costume: cute costume but make sure you ...\n",
       "3487     It worked fine until I bought a new computer:...\n",
       "                              ...                        \n",
       "8573     high school writing!: this is probably one of...\n",
       "1436     Frida's more attractive soundtrack sister: Ut...\n",
       "8902     I think that its a good book: Anthony's works...\n",
       "6162     Not good, not bad: If you like early Mark Har...\n",
       "4218     California Exotics jack rabbit: Piece of crap...\n",
       "Name: text, Length: 7500, dtype: object"
      ]
     },
     "execution_count": 77,
     "metadata": {},
     "output_type": "execute_result"
    }
   ],
   "source": [
    "train_data[\"text\"]"
   ]
  },
  {
   "cell_type": "code",
   "execution_count": 78,
   "id": "767c0e65",
   "metadata": {},
   "outputs": [
    {
     "data": {
      "text/plain": [
       "2913    bore and stupid dark side of the moon make the...\n",
       "9413    ry cooder as an avid music fan with an abid in...\n",
       "4420    shakespear ' s best ! i love thi play . the wo...\n",
       "1983    cute costum cute costum but make sure you get ...\n",
       "3487    it work fine until i bought a new comput i own...\n",
       "                              ...                        \n",
       "8573    high school write ! thi is probabl one of the ...\n",
       "1436    frida ' s more attract soundtrack sister utter...\n",
       "8902    i think that it a good book anthoni ' s work a...\n",
       "6162    not good , not bad if you like earli mark harm...\n",
       "4218    california exot jack rabbit piec of crap . all...\n",
       "Name: text, Length: 7500, dtype: object"
      ]
     },
     "execution_count": 78,
     "metadata": {},
     "output_type": "execute_result"
    }
   ],
   "source": [
    "train_data[\"text\"].apply(lambda x: preprocess_text(x))"
   ]
  },
  {
   "cell_type": "code",
   "execution_count": 79,
   "id": "1b4a1157",
   "metadata": {},
   "outputs": [],
   "source": [
    "import torch\n",
    "from torch.utils.data import Dataset, DataLoader\n",
    "\n",
    "class TextDatasets(Dataset):\n",
    "    def __init__(self, X, y):\n",
    "        super().__init__()\n",
    "        if hasattr(X, \"toarray\"):\n",
    "            X = X.toarray()\n",
    "        self.X = torch.tensor(X, dtype=torch.float32)\n",
    "        self.y = torch.tensor(y, dtype=torch.long)\n",
    "    \n",
    "    def __len__(self):\n",
    "        return len(self.X)\n",
    "\n",
    "    def __getitem__(self, idx):\n",
    "        features = self.X[idx]\n",
    "        label = self.y[idx]\n",
    "        return features, label"
   ]
  },
  {
   "cell_type": "code",
   "execution_count": 80,
   "id": "e69bf5e7",
   "metadata": {},
   "outputs": [],
   "source": [
    "def text_processing_pipeline(df, tf=None, fit=True):\n",
    "    text_data = df.copy()\n",
    "    text_data[\"text\"] = text_data[\"text\"].apply(lambda x: preprocess_text(x))\n",
    "    \n",
    "    if fit:\n",
    "        X, tf = encode_sentences(text_data[\"text\"])\n",
    "    else:\n",
    "        X = tf.transform(text_data[\"text\"])\n",
    "    \n",
    "    y = text_data[\"label\"].values\n",
    "    datasets = TextDatasets(X, y)\n",
    "    data_loader = DataLoader(datasets, batch_size=12, shuffle=True)\n",
    "    return data_loader, tf"
   ]
  },
  {
   "cell_type": "code",
   "execution_count": 81,
   "id": "abbc8a7c",
   "metadata": {},
   "outputs": [],
   "source": [
    "train_dataloader, tf = text_processing_pipeline(train_data, fit=True)\n",
    "test_dataloader, _ = text_processing_pipeline(test_data, tf=tf, fit=False)\n"
   ]
  },
  {
   "cell_type": "code",
   "execution_count": 82,
   "id": "ad3351c7",
   "metadata": {},
   "outputs": [
    {
     "data": {
      "text/plain": [
       "(torch.Size([12, 19975]), torch.Size([12]))"
      ]
     },
     "execution_count": 82,
     "metadata": {},
     "output_type": "execute_result"
    }
   ],
   "source": [
    "features, label = next(iter(train_dataloader))\n",
    "\n",
    "features.shape, label.shape"
   ]
  },
  {
   "cell_type": "code",
   "execution_count": 83,
   "id": "da7ec478",
   "metadata": {},
   "outputs": [],
   "source": [
    "input_size = features.shape[0]"
   ]
  },
  {
   "cell_type": "code",
   "execution_count": 84,
   "id": "7be67876",
   "metadata": {},
   "outputs": [],
   "source": [
    "import torch\n",
    "import torch.nn as nn\n",
    "\n",
    "class GRUModel(nn.Module):\n",
    "    def  __init__(self, input_size, hidden_size, num_layers=1, num_classes=2):\n",
    "        super(GRUModel, self).__init__()\n",
    "        self.hidden_size = hidden_size\n",
    "        self.num_layers = num_layers\n",
    "        self.gru = nn.GRU(input_size, hidden_size, num_layers, batch_first=True)\n",
    "        self.dropout = nn.Dropout(0.4)\n",
    "        self.fc = nn.Linear(hidden_size, num_classes)\n",
    "\n",
    "    def forward(self, x):\n",
    "        x = x.unsqueeze(1)\n",
    "        h0 = torch.zeros(self.num_layers, x.size(0), self.hidden_size, device=x.device)\n",
    "        out, _ = self.gru(x, h0)\n",
    "        out = out[:, -1, :]\n",
    "        out = self.dropout(out)\n",
    "        out = self.fc(out)\n",
    "        return out\n",
    "        "
   ]
  },
  {
   "cell_type": "code",
   "execution_count": 86,
   "id": "049e5559",
   "metadata": {},
   "outputs": [],
   "source": [
    "import torch.optim as optim\n",
    "from torchmetrics import Accuracy"
   ]
  },
  {
   "cell_type": "code",
   "execution_count": 87,
   "id": "2900e547",
   "metadata": {},
   "outputs": [],
   "source": [
    "df_log = pd.DataFrame(columns=[\"epoch\", \"train_loss\", \"test_loss\", \"test_accuracy\"])"
   ]
  },
  {
   "cell_type": "code",
   "execution_count": 88,
   "id": "68042583",
   "metadata": {},
   "outputs": [
    {
     "name": "stdout",
     "output_type": "stream",
     "text": [
      "Using device: cuda\n"
     ]
    },
    {
     "data": {
      "text/plain": [
       "19975"
      ]
     },
     "execution_count": 88,
     "metadata": {},
     "output_type": "execute_result"
    }
   ],
   "source": [
    "input_size = features.shape[1]\n",
    "hidden_size = 64\n",
    "num_classes = 2\n",
    "\n",
    "num_epochs = 20\n",
    "\n",
    "device = torch.device(\"cuda\" if torch.cuda.is_available() else \"cpu\")\n",
    "print(\"Using device:\", device)\n",
    "input_size"
   ]
  },
  {
   "cell_type": "code",
   "execution_count": 89,
   "id": "9b59b7d2",
   "metadata": {},
   "outputs": [],
   "source": [
    "\n",
    "criterion = nn.CrossEntropyLoss()\n",
    "acc = Accuracy(task=\"multiclass\", num_classes=2).to(device)"
   ]
  },
  {
   "cell_type": "code",
   "execution_count": 90,
   "id": "08ff7517",
   "metadata": {},
   "outputs": [
    {
     "name": "stdout",
     "output_type": "stream",
     "text": [
      "Epoch 1, Train Loss: 0.4364\n",
      "Epoch 1, Test Loss: 0.3280, Accuracy: 86.84%\n",
      "Epoch 2, Train Loss: 0.1967\n",
      "Epoch 2, Test Loss: 0.3232, Accuracy: 86.56%\n",
      "Epoch 3, Train Loss: 0.0985\n",
      "Epoch 3, Test Loss: 0.3758, Accuracy: 86.00%\n",
      "Epoch 4, Train Loss: 0.0491\n",
      "Epoch 4, Test Loss: 0.4295, Accuracy: 85.44%\n",
      "Epoch 5, Train Loss: 0.0237\n",
      "Epoch 5, Test Loss: 0.5016, Accuracy: 85.08%\n",
      "Epoch 6, Train Loss: 0.0121\n",
      "Epoch 6, Test Loss: 0.5830, Accuracy: 84.24%\n",
      "--- Early stopping: no improvement. ---\n"
     ]
    }
   ],
   "source": [
    "best_acc = 0\n",
    "patience = 5\n",
    "trigger = 0\n",
    "\n",
    "model = GRUModel(input_size, hidden_size)\n",
    "model = model.to(device)\n",
    "optimizer = optim.Adam(model.parameters(), lr=0.001)\n",
    "\n",
    "\n",
    "for epoch in range(num_epochs):\n",
    "\n",
    "    # ----- Entrainement -------\n",
    "    total_loss = 0\n",
    "    model.train()\n",
    "    for features, labels in train_dataloader:\n",
    "        features = features.to(device)\n",
    "        labels = labels.to(device)\n",
    "\n",
    "        optimizer.zero_grad()\n",
    "        output = model(features)\n",
    "        loss = criterion(output, labels)\n",
    "        loss.backward()\n",
    "        optimizer.step()\n",
    "        total_loss += loss.item()\n",
    "\n",
    "    avg_loss = total_loss / len(train_dataloader)\n",
    "    print(f\"Epoch {epoch+1}, Train Loss: {avg_loss:.4f}\")\n",
    "\n",
    "    # ------ Evaluation -------\n",
    "    model.eval()\n",
    "    acc.reset()\n",
    "    total_test_loss = 0\n",
    "\n",
    "    with torch.no_grad():\n",
    "        for features_test, labels_test in test_dataloader:\n",
    "            features_test = features_test.to(device)\n",
    "            labels_test = labels_test.to(device)\n",
    "\n",
    "            outputs = model(features_test)\n",
    "            loss_test = criterion(outputs, labels_test)\n",
    "            total_test_loss += loss_test.item()\n",
    "\n",
    "            _, predicted = torch.max(outputs.data, 1)\n",
    "            acc.update(predicted, labels_test)\n",
    "        \n",
    "        avg_loss_test = total_test_loss / len(test_dataloader)\n",
    "        accuracy = acc.compute().item() * 100\n",
    "\n",
    "        df_log.loc[epoch] = [epoch+1, avg_loss, avg_loss_test, accuracy]\n",
    "        print(f\"Epoch {epoch+1}, Test Loss: {avg_loss_test:.4f}, Accuracy: {accuracy:.2f}%\")\n",
    "\n",
    "    if accuracy > best_acc:\n",
    "        best_acc = accuracy\n",
    "        best_model = model\n",
    "        trigger = 0\n",
    "        torch.save(model.state_dict(), \"models/best_model.pth\")\n",
    "    else:\n",
    "        trigger += 1\n",
    "        if trigger >= patience:\n",
    "            print(\"--- Early stopping: no improvement. ---\")\n",
    "            break\n"
   ]
  },
  {
   "cell_type": "code",
   "execution_count": 91,
   "id": "33a24d7123952903",
   "metadata": {},
   "outputs": [
    {
     "data": {
      "text/plain": [
       "<Figure size 640x480 with 0 Axes>"
      ]
     },
     "metadata": {},
     "output_type": "display_data"
    },
    {
     "data": {
      "image/png": "[encoded data removed]",
      "text/plain": [
       "<Figure size 640x480 with 1 Axes>"
      ]
     },
     "metadata": {},
     "output_type": "display_data"
    },
    {
     "data": {
      "image/png": "[encoded data removed]",
      "text/plain": [
       "<Figure size 640x480 with 1 Axes>"
      ]
     },
     "metadata": {},
     "output_type": "display_data"
    }
   ],
   "source": [
    "import matplotlib.pyplot as plt\n",
    "\n",
    "plt.figure()\n",
    "df_log.plot(x=\"epoch\", y=[\"train_loss\", \"test_loss\"])\n",
    "df_log.plot(x=\"epoch\", y=\"test_accuracy\")\n",
    "plt.show()"
   ]
  },
  {
   "cell_type": "code",
   "execution_count": 102,
   "id": "3ef8d3a9",
   "metadata": {},
   "outputs": [
    {
     "name": "stdout",
     "output_type": "stream",
     "text": [
      "I love this product, it's amazing!: Sentiment Positif \n",
      "\n",
      "I am extremely satisfied with my purchase.: Sentiment Positif \n",
      "\n",
      "The experience exceeded my expectations.: Sentiment Positif \n",
      "\n",
      "This is an excellent idea, great job to the team!: Sentiment Positif \n",
      "\n",
      "I will definitely recommend this service to my friends.: Sentiment Positif \n",
      "\n",
      "Everything worked perfectly from start to finish.: Sentiment Positif \n",
      "\n",
      "I hate this product, it doesn't work.: Sentiment Négatif \n",
      "\n",
      "I am very disappointed with the quality.: Sentiment Négatif \n",
      "\n",
      "The experience was a disaster.: Sentiment Négatif \n",
      "\n",
      "This is a terrible idea.: Sentiment Négatif \n",
      "\n",
      "I will never recommend this service.: Sentiment Positif \n",
      "\n",
      "I regret buying this item.: Sentiment Positif \n",
      "\n"
     ]
    }
   ],
   "source": [
    "sentences = [\n",
    "    \"I love this product, it's amazing!\",\n",
    "    \"I am extremely satisfied with my purchase.\",\n",
    "    \"The experience exceeded my expectations.\",\n",
    "    \"This is an excellent idea, great job to the team!\",\n",
    "    \"I will definitely recommend this service to my friends.\",\n",
    "    \"Everything worked perfectly from start to finish.\",\n",
    "    \"I hate this product, it doesn't work.\",\n",
    "    \"I am very disappointed with the quality.\",\n",
    "    \"The experience was a disaster.\",\n",
    "    \"This is a terrible idea.\",\n",
    "    \"I will never recommend this service.\",\n",
    "    \"I regret buying this item.\",\n",
    "]\n",
    "\n",
    "for text in sentences:\n",
    "    text_clean = preprocess_text(text)\n",
    "\n",
    "    X_test = tf.transform([text_clean])\n",
    "\n",
    "    X_test_tensor = torch.tensor(X_test.toarray(), dtype=torch.float32).to(device)\n",
    "\n",
    "    # Prédiction\n",
    "    model.eval()\n",
    "    with torch.no_grad():\n",
    "        output = best_model(X_test_tensor)\n",
    "        _, predicted = torch.max(output, 1)\n",
    "        label = predicted.item()\n",
    "\n",
    "    # Interprétation du résultat\n",
    "    if label == 0:\n",
    "        print(f\"{text}: Sentiment Négatif \\n\")\n",
    "    else:\n",
    "        print(f\"{text}: Sentiment Positif \\n\")\n"
   ]
  },
  {
   "cell_type": "markdown",
   "id": "300de35c",
   "metadata": {},
   "source": [
    "## Remarque \n",
    "\n",
    "on remarque que le model a un souci de generalisation du à un manque de donnés"
   ]
  },
  {
   "cell_type": "code",
   "execution_count": 104,
   "id": "4903136a",
   "metadata": {},
   "outputs": [
    {
     "name": "stdout",
     "output_type": "stream",
     "text": [
      "amazing!: Sentiment Positif \n",
      "\n",
      "satisfied: Sentiment Positif \n",
      "\n",
      "excellent idea: Sentiment Positif \n",
      "\n",
      "definitely recommend: Sentiment Positif \n",
      "\n",
      "perfectly: Sentiment Positif \n",
      "\n",
      "hate: Sentiment Négatif \n",
      "\n",
      "disappoint: Sentiment Négatif \n",
      "\n",
      "disaster: Sentiment Négatif \n",
      "\n",
      "terrible idea: Sentiment Négatif \n",
      "\n",
      "never recommend: Sentiment Positif \n",
      "\n",
      "regret: Sentiment Positif \n",
      "\n"
     ]
    }
   ],
   "source": [
    "sentences = [\n",
    "    \"amazing!\",\n",
    "    \"satisfied\",\n",
    "    \"excellent idea\",\n",
    "    \"definitely recommend\",\n",
    "    \"perfectly\",\n",
    "    \"hate\",\n",
    "    \"disappoint\",\n",
    "    \"disaster\",\n",
    "    \"terrible idea\",\n",
    "    \"never recommend\",\n",
    "    \"regret\",\n",
    "]\n",
    "\n",
    "for text in sentences:\n",
    "    text_clean = preprocess_text(text)\n",
    "\n",
    "    X_test = tf.transform([text_clean])\n",
    "\n",
    "    X_test_tensor = torch.tensor(X_test.toarray(), dtype=torch.float32).to(device)\n",
    "\n",
    "    # Prédiction\n",
    "    model.eval()\n",
    "    with torch.no_grad():\n",
    "        output = best_model(X_test_tensor)\n",
    "        _, predicted = torch.max(output, 1)\n",
    "        label = predicted.item()\n",
    "\n",
    "    # Interprétation du résultat\n",
    "    if label == 0:\n",
    "        print(f\"{text}: Sentiment Négatif \\n\")\n",
    "    else:\n",
    "        print(f\"{text}: Sentiment Positif \\n\")"
   ]
  }
 ],
 "metadata": {
  "kernelspec": {
   "display_name": "ml-env",
   "language": "python",
   "name": "python3"
  },
  "language_info": {
   "codemirror_mode": {
    "name": "ipython",
    "version": 3
   },
   "file_extension": ".py",
   "mimetype": "text/x-python",
   "name": "python",
   "nbconvert_exporter": "python",
   "pygments_lexer": "ipython3",
   "version": "3.13.7"
  }
 },
 "nbformat": 4,
 "nbformat_minor": 5
}
